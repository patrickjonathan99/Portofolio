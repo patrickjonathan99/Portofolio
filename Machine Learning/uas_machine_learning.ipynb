{
 "cells": [
  {
   "cell_type": "markdown",
   "metadata": {},
   "source": [
    "# [FinalExam]-[MATH6149016 ; MATH6149049 ]-[MachineLearning]"
   ]
  },
  {
   "cell_type": "markdown",
   "metadata": {},
   "source": [
    "**Thursday, July 14, 2022.**"
   ]
  },
  {
   "cell_type": "markdown",
   "metadata": {},
   "source": [
    "**Student Name**  : Patrick Jonathan   \n",
    "**Student ID**    : 2440064791     \n",
    "**Video Link**    : https://youtu.be/gAoMtGBF8S8"
   ]
  },
  {
   "cell_type": "markdown",
   "metadata": {},
   "source": [
    "* [Dataset Link](https://data.cityofchicago.org/Public-Safety/Crimes-2001-to-present/ijzp-q8t2/data)\n",
    "## <strong>Dataset Description</strong>\n",
    "<br>\n",
    " <strong>a record of the crimes that have occurred in Chicago</strong>\n",
    " <br>\n",
    "<ul><li><strong>Domestic :</strong> Indicates whether the incident was domestic-related as defined by the Illinois Domestic Violence Act.</li>\n",
    "    <li><strong>Beat :</strong> Indicates the beat where the incident occurred. A beat is the smallest police geographic area – each beat has a dedicated police beat car. Three to five beats make up a police sector, and three sectors make up a police district. The Chicago Police Department has 22 police districts.</li>\n",
    "    <li><strong>District :</strong> Indicates the police district where the incident occurred</li>\n",
    "    <li><strong>Ward :</strong> The ward(City Council District) where the incident occurred</li>\n",
    "    <li><strong>Community Are :</strong> Indicates the community area where the incident occurred. Chicago has 77 community areas.</li>\n",
    "    <li><strong>FBI Code :</strong> Indicates the crime classification as outlined in the FBI's National Incident-Based Reporting System (NIBRS).</li>\n",
    "    <li><strong>Date :</strong> A given month (1 : January, 12 : December); a given hour (1 to 23)</li>\n",
    "</ul>"
   ]
  },
  {
   "cell_type": "markdown",
   "metadata": {},
   "source": [
    "**NOTES:**\n",
    "<li>You are required to build <strong>'the BEST and suitable'</strong> supervised machine learning model for the given dataset. The model may be used for the effective deployment of police officers in a city across several districts regarding the degree to which each area is prone to crime at a particular hour, day, and month. </li>\n",
    "<li>Build multiple potentially suitable machine learning models (at least 2 different machine learning models).</li>\n",
    "<li>You have to evaluate the models using at least 2 performance metrics before choose what you assume to be the `\"best\"` model for the given dataset.</li>"
   ]
  },
  {
   "cell_type": "markdown",
   "metadata": {},
   "source": [
    "**HINT:** \n",
    "1. You need to generate the target feature by **performing feature engineering on `Date` and `Primary Type` features** to group crimes together\n",
    "<br>\n",
    "2. Level of Crime Rate:\n",
    "<ul><li><strong>0-14 : </strong>Low Crime Rate</li>\n",
    "<li><strong>15-33 : </strong>Medium Crime Rate</li>\n",
    "<li><strong>34 and above : </strong>High Crime Rate</li>\n",
    "<br>\n",
    "3. You may need to check the data proportion in each class (imbalance/not)"
   ]
  },
  {
   "cell_type": "markdown",
   "metadata": {},
   "source": [
    "## 1. Load the neccessary Libraries and Data (2 pts.)"
   ]
  },
  {
   "cell_type": "code",
   "execution_count": 1,
   "metadata": {},
   "outputs": [],
   "source": [
    "import pandas as pd"
   ]
  },
  {
   "cell_type": "markdown",
   "metadata": {},
   "source": [
    "Import library pandas to call the read_csv method\n",
    "\n",
    "Because read_csv method included in pandas library."
   ]
  },
  {
   "cell_type": "code",
   "execution_count": 2,
   "metadata": {},
   "outputs": [],
   "source": [
    "df = pd.read_csv(\"OddID.csv\")"
   ]
  },
  {
   "cell_type": "markdown",
   "metadata": {},
   "source": [
    "Read the \"OddID.csv\" file using **read_csv** method and keep it in df variable"
   ]
  },
  {
   "cell_type": "code",
   "execution_count": 3,
   "metadata": {
    "scrolled": true
   },
   "outputs": [
    {
     "data": {
      "text/html": [
       "<div>\n",
       "<style scoped>\n",
       "    .dataframe tbody tr th:only-of-type {\n",
       "        vertical-align: middle;\n",
       "    }\n",
       "\n",
       "    .dataframe tbody tr th {\n",
       "        vertical-align: top;\n",
       "    }\n",
       "\n",
       "    .dataframe thead th {\n",
       "        text-align: right;\n",
       "    }\n",
       "</style>\n",
       "<table border=\"1\" class=\"dataframe\">\n",
       "  <thead>\n",
       "    <tr style=\"text-align: right;\">\n",
       "      <th></th>\n",
       "      <th>Unnamed: 0</th>\n",
       "      <th>ID</th>\n",
       "      <th>Case Number</th>\n",
       "      <th>Date</th>\n",
       "      <th>Block</th>\n",
       "      <th>IUCR</th>\n",
       "      <th>Primary Type</th>\n",
       "      <th>Description</th>\n",
       "      <th>Location Description</th>\n",
       "      <th>Arrest</th>\n",
       "      <th>...</th>\n",
       "      <th>Ward</th>\n",
       "      <th>Community Area</th>\n",
       "      <th>FBI Code</th>\n",
       "      <th>X Coordinate</th>\n",
       "      <th>Y Coordinate</th>\n",
       "      <th>Year</th>\n",
       "      <th>Updated On</th>\n",
       "      <th>Latitude</th>\n",
       "      <th>Longitude</th>\n",
       "      <th>Location</th>\n",
       "    </tr>\n",
       "  </thead>\n",
       "  <tbody>\n",
       "    <tr>\n",
       "      <th>0</th>\n",
       "      <td>1024161</td>\n",
       "      <td>11254362</td>\n",
       "      <td>JB183495</td>\n",
       "      <td>03/12/2018 07:32:00 PM</td>\n",
       "      <td>017XX W CHICAGO AVE</td>\n",
       "      <td>0560</td>\n",
       "      <td>ASSAULT</td>\n",
       "      <td>SIMPLE</td>\n",
       "      <td>RESTAURANT</td>\n",
       "      <td>False</td>\n",
       "      <td>...</td>\n",
       "      <td>1.0</td>\n",
       "      <td>24.0</td>\n",
       "      <td>08A</td>\n",
       "      <td>1164432.0</td>\n",
       "      <td>1905388.0</td>\n",
       "      <td>2018</td>\n",
       "      <td>05/04/2018 03:51:04 PM</td>\n",
       "      <td>41.896002</td>\n",
       "      <td>-87.671521</td>\n",
       "      <td>(41.896002063, -87.671521286)</td>\n",
       "    </tr>\n",
       "    <tr>\n",
       "      <th>1</th>\n",
       "      <td>428801</td>\n",
       "      <td>10540177</td>\n",
       "      <td>HZ285387</td>\n",
       "      <td>05/29/2016 11:28:00 PM</td>\n",
       "      <td>027XX S STATE ST</td>\n",
       "      <td>0454</td>\n",
       "      <td>BATTERY</td>\n",
       "      <td>AGG PO HANDS NO/MIN INJURY</td>\n",
       "      <td>CHA APARTMENT</td>\n",
       "      <td>True</td>\n",
       "      <td>...</td>\n",
       "      <td>3.0</td>\n",
       "      <td>35.0</td>\n",
       "      <td>08B</td>\n",
       "      <td>1176730.0</td>\n",
       "      <td>1886544.0</td>\n",
       "      <td>2016</td>\n",
       "      <td>02/10/2018 03:50:01 PM</td>\n",
       "      <td>41.844024</td>\n",
       "      <td>-87.626923</td>\n",
       "      <td>(41.844023772, -87.626923253)</td>\n",
       "    </tr>\n",
       "    <tr>\n",
       "      <th>2</th>\n",
       "      <td>1099812</td>\n",
       "      <td>11624449</td>\n",
       "      <td>JC187320</td>\n",
       "      <td>03/16/2019 02:10:00 AM</td>\n",
       "      <td>101XX S PRINCETON AVE</td>\n",
       "      <td>031A</td>\n",
       "      <td>ROBBERY</td>\n",
       "      <td>ARMED: HANDGUN</td>\n",
       "      <td>STREET</td>\n",
       "      <td>False</td>\n",
       "      <td>...</td>\n",
       "      <td>9.0</td>\n",
       "      <td>49.0</td>\n",
       "      <td>03</td>\n",
       "      <td>1176072.0</td>\n",
       "      <td>1837879.0</td>\n",
       "      <td>2019</td>\n",
       "      <td>03/23/2019 04:03:16 PM</td>\n",
       "      <td>41.710497</td>\n",
       "      <td>-87.630797</td>\n",
       "      <td>(41.710496583, -87.630796959)</td>\n",
       "    </tr>\n",
       "    <tr>\n",
       "      <th>3</th>\n",
       "      <td>595228</td>\n",
       "      <td>11109388</td>\n",
       "      <td>JA459177</td>\n",
       "      <td>10/05/2017 11:00:00 AM</td>\n",
       "      <td>019XX W OGDEN AVE</td>\n",
       "      <td>0810</td>\n",
       "      <td>THEFT</td>\n",
       "      <td>OVER $500</td>\n",
       "      <td>HOSPITAL BUILDING/GROUNDS</td>\n",
       "      <td>False</td>\n",
       "      <td>...</td>\n",
       "      <td>2.0</td>\n",
       "      <td>28.0</td>\n",
       "      <td>06</td>\n",
       "      <td>1163312.0</td>\n",
       "      <td>1897077.0</td>\n",
       "      <td>2017</td>\n",
       "      <td>02/10/2018 03:50:01 PM</td>\n",
       "      <td>41.873220</td>\n",
       "      <td>-87.675869</td>\n",
       "      <td>(41.873219626, -87.675868666)</td>\n",
       "    </tr>\n",
       "    <tr>\n",
       "      <th>4</th>\n",
       "      <td>1033611</td>\n",
       "      <td>11241624</td>\n",
       "      <td>JB166623</td>\n",
       "      <td>02/26/2018 07:51:00 PM</td>\n",
       "      <td>067XX S COTTAGE GROVE AVE</td>\n",
       "      <td>1330</td>\n",
       "      <td>CRIMINAL TRESPASS</td>\n",
       "      <td>TO LAND</td>\n",
       "      <td>GAS STATION</td>\n",
       "      <td>True</td>\n",
       "      <td>...</td>\n",
       "      <td>20.0</td>\n",
       "      <td>42.0</td>\n",
       "      <td>26</td>\n",
       "      <td>1182717.0</td>\n",
       "      <td>1860597.0</td>\n",
       "      <td>2018</td>\n",
       "      <td>05/04/2018 03:51:04 PM</td>\n",
       "      <td>41.772686</td>\n",
       "      <td>-87.605758</td>\n",
       "      <td>(41.77268594, -87.605758495)</td>\n",
       "    </tr>\n",
       "  </tbody>\n",
       "</table>\n",
       "<p>5 rows × 23 columns</p>\n",
       "</div>"
      ],
      "text/plain": [
       "   Unnamed: 0        ID Case Number                    Date  \\\n",
       "0     1024161  11254362    JB183495  03/12/2018 07:32:00 PM   \n",
       "1      428801  10540177    HZ285387  05/29/2016 11:28:00 PM   \n",
       "2     1099812  11624449    JC187320  03/16/2019 02:10:00 AM   \n",
       "3      595228  11109388    JA459177  10/05/2017 11:00:00 AM   \n",
       "4     1033611  11241624    JB166623  02/26/2018 07:51:00 PM   \n",
       "\n",
       "                       Block  IUCR       Primary Type  \\\n",
       "0        017XX W CHICAGO AVE  0560            ASSAULT   \n",
       "1           027XX S STATE ST  0454            BATTERY   \n",
       "2      101XX S PRINCETON AVE  031A            ROBBERY   \n",
       "3          019XX W OGDEN AVE  0810              THEFT   \n",
       "4  067XX S COTTAGE GROVE AVE  1330  CRIMINAL TRESPASS   \n",
       "\n",
       "                  Description       Location Description  Arrest  ...  Ward  \\\n",
       "0                      SIMPLE                 RESTAURANT   False  ...   1.0   \n",
       "1  AGG PO HANDS NO/MIN INJURY              CHA APARTMENT    True  ...   3.0   \n",
       "2              ARMED: HANDGUN                     STREET   False  ...   9.0   \n",
       "3                   OVER $500  HOSPITAL BUILDING/GROUNDS   False  ...   2.0   \n",
       "4                     TO LAND                GAS STATION    True  ...  20.0   \n",
       "\n",
       "   Community Area  FBI Code  X Coordinate  Y Coordinate  Year  \\\n",
       "0            24.0       08A     1164432.0     1905388.0  2018   \n",
       "1            35.0       08B     1176730.0     1886544.0  2016   \n",
       "2            49.0        03     1176072.0     1837879.0  2019   \n",
       "3            28.0        06     1163312.0     1897077.0  2017   \n",
       "4            42.0        26     1182717.0     1860597.0  2018   \n",
       "\n",
       "               Updated On   Latitude  Longitude                       Location  \n",
       "0  05/04/2018 03:51:04 PM  41.896002 -87.671521  (41.896002063, -87.671521286)  \n",
       "1  02/10/2018 03:50:01 PM  41.844024 -87.626923  (41.844023772, -87.626923253)  \n",
       "2  03/23/2019 04:03:16 PM  41.710497 -87.630797  (41.710496583, -87.630796959)  \n",
       "3  02/10/2018 03:50:01 PM  41.873220 -87.675869  (41.873219626, -87.675868666)  \n",
       "4  05/04/2018 03:51:04 PM  41.772686 -87.605758   (41.77268594, -87.605758495)  \n",
       "\n",
       "[5 rows x 23 columns]"
      ]
     },
     "execution_count": 3,
     "metadata": {},
     "output_type": "execute_result"
    }
   ],
   "source": [
    "df.head()"
   ]
  },
  {
   "cell_type": "markdown",
   "metadata": {},
   "source": [
    "Check if the data is imported successly using `head` method to see the top 5 of the dataset"
   ]
  },
  {
   "cell_type": "markdown",
   "metadata": {},
   "source": [
    "## 2. Data Exploration (15 pts.)"
   ]
  },
  {
   "cell_type": "code",
   "execution_count": 4,
   "metadata": {},
   "outputs": [
    {
     "data": {
      "text/plain": [
       "(1031744, 23)"
      ]
     },
     "execution_count": 4,
     "metadata": {},
     "output_type": "execute_result"
    }
   ],
   "source": [
    "df.shape"
   ]
  },
  {
   "cell_type": "markdown",
   "metadata": {},
   "source": [
    "By using `shape` method, we can see that our imported dataset have 1031744 rows and 23 columns\n",
    "\n",
    "It means that our dataset has 23 attributes with 1031744 data"
   ]
  },
  {
   "cell_type": "code",
   "execution_count": 5,
   "metadata": {},
   "outputs": [
    {
     "name": "stdout",
     "output_type": "stream",
     "text": [
      "<class 'pandas.core.frame.DataFrame'>\n",
      "RangeIndex: 1031744 entries, 0 to 1031743\n",
      "Data columns (total 23 columns):\n",
      " #   Column                Non-Null Count    Dtype  \n",
      "---  ------                --------------    -----  \n",
      " 0   Unnamed: 0            1031744 non-null  int64  \n",
      " 1   ID                    1031744 non-null  int64  \n",
      " 2   Case Number           1031744 non-null  object \n",
      " 3   Date                  1031744 non-null  object \n",
      " 4   Block                 1031744 non-null  object \n",
      " 5   IUCR                  1031744 non-null  object \n",
      " 6   Primary Type          1031744 non-null  object \n",
      " 7   Description           1031744 non-null  object \n",
      " 8   Location Description  1028477 non-null  object \n",
      " 9   Arrest                1031744 non-null  bool   \n",
      " 10  Domestic              1031744 non-null  bool   \n",
      " 11  Beat                  1031744 non-null  int64  \n",
      " 12  District              1031743 non-null  float64\n",
      " 13  Ward                  1031738 non-null  float64\n",
      " 14  Community Area        1031742 non-null  float64\n",
      " 15  FBI Code              1031744 non-null  object \n",
      " 16  X Coordinate          1019181 non-null  float64\n",
      " 17  Y Coordinate          1019181 non-null  float64\n",
      " 18  Year                  1031744 non-null  int64  \n",
      " 19  Updated On            1031744 non-null  object \n",
      " 20  Latitude              1019181 non-null  float64\n",
      " 21  Longitude             1019181 non-null  float64\n",
      " 22  Location              1019181 non-null  object \n",
      "dtypes: bool(2), float64(7), int64(4), object(10)\n",
      "memory usage: 167.3+ MB\n"
     ]
    }
   ],
   "source": [
    "df.info()"
   ]
  },
  {
   "cell_type": "markdown",
   "metadata": {},
   "source": [
    "### Type of attributes\n",
    "\n",
    "As we can see from the table above, from the 23 attributes that we have : \n",
    "- 2 boolean attributes \n",
    "- 10 categorical attributes\n",
    "- 11 numerical attributes"
   ]
  },
  {
   "cell_type": "code",
   "execution_count": 6,
   "metadata": {},
   "outputs": [
    {
     "data": {
      "text/html": [
       "<div>\n",
       "<style scoped>\n",
       "    .dataframe tbody tr th:only-of-type {\n",
       "        vertical-align: middle;\n",
       "    }\n",
       "\n",
       "    .dataframe tbody tr th {\n",
       "        vertical-align: top;\n",
       "    }\n",
       "\n",
       "    .dataframe thead th {\n",
       "        text-align: right;\n",
       "    }\n",
       "</style>\n",
       "<table border=\"1\" class=\"dataframe\">\n",
       "  <thead>\n",
       "    <tr style=\"text-align: right;\">\n",
       "      <th></th>\n",
       "      <th>Unnamed: 0</th>\n",
       "      <th>ID</th>\n",
       "      <th>Beat</th>\n",
       "      <th>District</th>\n",
       "      <th>Ward</th>\n",
       "      <th>Community Area</th>\n",
       "      <th>X Coordinate</th>\n",
       "      <th>Y Coordinate</th>\n",
       "      <th>Year</th>\n",
       "      <th>Latitude</th>\n",
       "      <th>Longitude</th>\n",
       "    </tr>\n",
       "  </thead>\n",
       "  <tbody>\n",
       "    <tr>\n",
       "      <th>count</th>\n",
       "      <td>1.031744e+06</td>\n",
       "      <td>1.031744e+06</td>\n",
       "      <td>1.031744e+06</td>\n",
       "      <td>1.031743e+06</td>\n",
       "      <td>1.031738e+06</td>\n",
       "      <td>1.031742e+06</td>\n",
       "      <td>1.019181e+06</td>\n",
       "      <td>1.019181e+06</td>\n",
       "      <td>1.031744e+06</td>\n",
       "      <td>1.019181e+06</td>\n",
       "      <td>1.019181e+06</td>\n",
       "    </tr>\n",
       "    <tr>\n",
       "      <th>mean</th>\n",
       "      <td>5.734502e+05</td>\n",
       "      <td>1.081694e+07</td>\n",
       "      <td>1.144468e+03</td>\n",
       "      <td>1.121607e+01</td>\n",
       "      <td>2.316172e+01</td>\n",
       "      <td>3.686135e+01</td>\n",
       "      <td>1.164729e+06</td>\n",
       "      <td>1.886285e+06</td>\n",
       "      <td>2.016676e+03</td>\n",
       "      <td>4.184356e+01</td>\n",
       "      <td>-8.767101e+01</td>\n",
       "    </tr>\n",
       "    <tr>\n",
       "      <th>std</th>\n",
       "      <td>3.308943e+05</td>\n",
       "      <td>7.250323e+05</td>\n",
       "      <td>6.942233e+02</td>\n",
       "      <td>6.934780e+00</td>\n",
       "      <td>1.398308e+01</td>\n",
       "      <td>2.141199e+01</td>\n",
       "      <td>1.622861e+04</td>\n",
       "      <td>3.118423e+04</td>\n",
       "      <td>1.248647e+00</td>\n",
       "      <td>8.576025e-02</td>\n",
       "      <td>5.908040e-02</td>\n",
       "    </tr>\n",
       "    <tr>\n",
       "      <th>min</th>\n",
       "      <td>0.000000e+00</td>\n",
       "      <td>2.171400e+04</td>\n",
       "      <td>1.110000e+02</td>\n",
       "      <td>1.000000e+00</td>\n",
       "      <td>1.000000e+00</td>\n",
       "      <td>0.000000e+00</td>\n",
       "      <td>1.092706e+06</td>\n",
       "      <td>1.813897e+06</td>\n",
       "      <td>2.015000e+03</td>\n",
       "      <td>4.164459e+01</td>\n",
       "      <td>-8.793427e+01</td>\n",
       "    </tr>\n",
       "    <tr>\n",
       "      <th>25%</th>\n",
       "      <td>2.869228e+05</td>\n",
       "      <td>1.040797e+07</td>\n",
       "      <td>6.120000e+02</td>\n",
       "      <td>6.000000e+00</td>\n",
       "      <td>1.000000e+01</td>\n",
       "      <td>2.300000e+01</td>\n",
       "      <td>1.152955e+06</td>\n",
       "      <td>1.859226e+06</td>\n",
       "      <td>2.016000e+03</td>\n",
       "      <td>4.176901e+01</td>\n",
       "      <td>-8.771377e+01</td>\n",
       "    </tr>\n",
       "    <tr>\n",
       "      <th>50%</th>\n",
       "      <td>5.737245e+05</td>\n",
       "      <td>1.087063e+07</td>\n",
       "      <td>1.031000e+03</td>\n",
       "      <td>1.000000e+01</td>\n",
       "      <td>2.400000e+01</td>\n",
       "      <td>3.200000e+01</td>\n",
       "      <td>1.166471e+06</td>\n",
       "      <td>1.893489e+06</td>\n",
       "      <td>2.017000e+03</td>\n",
       "      <td>4.186338e+01</td>\n",
       "      <td>-8.766459e+01</td>\n",
       "    </tr>\n",
       "    <tr>\n",
       "      <th>75%</th>\n",
       "      <td>8.598735e+05</td>\n",
       "      <td>1.127863e+07</td>\n",
       "      <td>1.713000e+03</td>\n",
       "      <td>1.700000e+01</td>\n",
       "      <td>3.400000e+01</td>\n",
       "      <td>5.400000e+01</td>\n",
       "      <td>1.176417e+06</td>\n",
       "      <td>1.908739e+06</td>\n",
       "      <td>2.018000e+03</td>\n",
       "      <td>4.190535e+01</td>\n",
       "      <td>-8.762788e+01</td>\n",
       "    </tr>\n",
       "    <tr>\n",
       "      <th>max</th>\n",
       "      <td>1.146380e+06</td>\n",
       "      <td>1.168250e+07</td>\n",
       "      <td>2.535000e+03</td>\n",
       "      <td>3.100000e+01</td>\n",
       "      <td>5.000000e+01</td>\n",
       "      <td>7.700000e+01</td>\n",
       "      <td>1.205119e+06</td>\n",
       "      <td>1.951535e+06</td>\n",
       "      <td>2.019000e+03</td>\n",
       "      <td>4.202267e+01</td>\n",
       "      <td>-8.752453e+01</td>\n",
       "    </tr>\n",
       "  </tbody>\n",
       "</table>\n",
       "</div>"
      ],
      "text/plain": [
       "         Unnamed: 0            ID          Beat      District          Ward  \\\n",
       "count  1.031744e+06  1.031744e+06  1.031744e+06  1.031743e+06  1.031738e+06   \n",
       "mean   5.734502e+05  1.081694e+07  1.144468e+03  1.121607e+01  2.316172e+01   \n",
       "std    3.308943e+05  7.250323e+05  6.942233e+02  6.934780e+00  1.398308e+01   \n",
       "min    0.000000e+00  2.171400e+04  1.110000e+02  1.000000e+00  1.000000e+00   \n",
       "25%    2.869228e+05  1.040797e+07  6.120000e+02  6.000000e+00  1.000000e+01   \n",
       "50%    5.737245e+05  1.087063e+07  1.031000e+03  1.000000e+01  2.400000e+01   \n",
       "75%    8.598735e+05  1.127863e+07  1.713000e+03  1.700000e+01  3.400000e+01   \n",
       "max    1.146380e+06  1.168250e+07  2.535000e+03  3.100000e+01  5.000000e+01   \n",
       "\n",
       "       Community Area  X Coordinate  Y Coordinate          Year      Latitude  \\\n",
       "count    1.031742e+06  1.019181e+06  1.019181e+06  1.031744e+06  1.019181e+06   \n",
       "mean     3.686135e+01  1.164729e+06  1.886285e+06  2.016676e+03  4.184356e+01   \n",
       "std      2.141199e+01  1.622861e+04  3.118423e+04  1.248647e+00  8.576025e-02   \n",
       "min      0.000000e+00  1.092706e+06  1.813897e+06  2.015000e+03  4.164459e+01   \n",
       "25%      2.300000e+01  1.152955e+06  1.859226e+06  2.016000e+03  4.176901e+01   \n",
       "50%      3.200000e+01  1.166471e+06  1.893489e+06  2.017000e+03  4.186338e+01   \n",
       "75%      5.400000e+01  1.176417e+06  1.908739e+06  2.018000e+03  4.190535e+01   \n",
       "max      7.700000e+01  1.205119e+06  1.951535e+06  2.019000e+03  4.202267e+01   \n",
       "\n",
       "          Longitude  \n",
       "count  1.019181e+06  \n",
       "mean  -8.767101e+01  \n",
       "std    5.908040e-02  \n",
       "min   -8.793427e+01  \n",
       "25%   -8.771377e+01  \n",
       "50%   -8.766459e+01  \n",
       "75%   -8.762788e+01  \n",
       "max   -8.752453e+01  "
      ]
     },
     "execution_count": 6,
     "metadata": {},
     "output_type": "execute_result"
    }
   ],
   "source": [
    "df.describe()"
   ]
  },
  {
   "cell_type": "markdown",
   "metadata": {},
   "source": [
    "By using `describe` method, we can see the rows of each attributes, mean, standard deviation, minimum values, maximum values, and persentiles of each columns."
   ]
  },
  {
   "cell_type": "markdown",
   "metadata": {},
   "source": [
    "### Distribution"
   ]
  },
  {
   "cell_type": "code",
   "execution_count": 7,
   "metadata": {},
   "outputs": [],
   "source": [
    "import matplotlib.pyplot as plt\n",
    "import seaborn as sns"
   ]
  },
  {
   "cell_type": "markdown",
   "metadata": {},
   "source": [
    "Import matplotlib.pyplot library to use `hist` method\n",
    "\n",
    "We use `hist` method to show or visualize histogram of the numerical attributes"
   ]
  },
  {
   "cell_type": "code",
   "execution_count": 8,
   "metadata": {},
   "outputs": [
    {
     "data": {
      "text/plain": [
       "<function matplotlib.pyplot.show(*args, **kw)>"
      ]
     },
     "execution_count": 8,
     "metadata": {},
     "output_type": "execute_result"
    },
    {
     "data": {
      "image/png": "[encoded data removed]",
      "text/plain": [
       "<Figure size 432x288 with 1 Axes>"
      ]
     },
     "metadata": {
      "needs_background": "light"
     },
     "output_type": "display_data"
    }
   ],
   "source": [
    "plt.hist(df['Beat'])\n",
    "plt.show"
   ]
  },
  {
   "cell_type": "code",
   "execution_count": 9,
   "metadata": {},
   "outputs": [
    {
     "name": "stderr",
     "output_type": "stream",
     "text": [
      "C:\\Users\\Patrick Jonathan\\anaconda3\\lib\\site-packages\\numpy\\lib\\histograms.py:839: RuntimeWarning: invalid value encountered in greater_equal\n",
      "  keep = (tmp_a >= first_edge)\n",
      "C:\\Users\\Patrick Jonathan\\anaconda3\\lib\\site-packages\\numpy\\lib\\histograms.py:840: RuntimeWarning: invalid value encountered in less_equal\n",
      "  keep &= (tmp_a <= last_edge)\n"
     ]
    },
    {
     "data": {
      "text/plain": [
       "<function matplotlib.pyplot.show(*args, **kw)>"
      ]
     },
     "execution_count": 9,
     "metadata": {},
     "output_type": "execute_result"
    },
    {
     "data": {
      "image/png": "[encoded data removed]",
      "text/plain": [
       "<Figure size 432x288 with 1 Axes>"
      ]
     },
     "metadata": {
      "needs_background": "light"
     },
     "output_type": "display_data"
    }
   ],
   "source": [
    "plt.hist(df['District'])\n",
    "plt.show"
   ]
  },
  {
   "cell_type": "code",
   "execution_count": 10,
   "metadata": {},
   "outputs": [
    {
     "data": {
      "text/plain": [
       "<function matplotlib.pyplot.show(*args, **kw)>"
      ]
     },
     "execution_count": 10,
     "metadata": {},
     "output_type": "execute_result"
    },
    {
     "data": {
      "image/png": "[encoded data removed]",
      "text/plain": [
       "<Figure size 432x288 with 1 Axes>"
      ]
     },
     "metadata": {
      "needs_background": "light"
     },
     "output_type": "display_data"
    }
   ],
   "source": [
    "plt.hist(df['Ward'])\n",
    "plt.show"
   ]
  },
  {
   "cell_type": "code",
   "execution_count": 11,
   "metadata": {},
   "outputs": [
    {
     "data": {
      "text/plain": [
       "<function matplotlib.pyplot.show(*args, **kw)>"
      ]
     },
     "execution_count": 11,
     "metadata": {},
     "output_type": "execute_result"
    },
    {
     "data": {
      "image/png": "[encoded data removed]",
      "text/plain": [
       "<Figure size 432x288 with 1 Axes>"
      ]
     },
     "metadata": {
      "needs_background": "light"
     },
     "output_type": "display_data"
    }
   ],
   "source": [
    "plt.hist(df['Community Area'])\n",
    "plt.show"
   ]
  },
  {
   "cell_type": "code",
   "execution_count": 12,
   "metadata": {},
   "outputs": [
    {
     "data": {
      "text/plain": [
       "<function matplotlib.pyplot.show(*args, **kw)>"
      ]
     },
     "execution_count": 12,
     "metadata": {},
     "output_type": "execute_result"
    },
    {
     "data": {
      "image/png": "[encoded data removed]",
      "text/plain": [
       "<Figure size 432x288 with 1 Axes>"
      ]
     },
     "metadata": {
      "needs_background": "light"
     },
     "output_type": "display_data"
    }
   ],
   "source": [
    "plt.hist(df['X Coordinate'])\n",
    "plt.show"
   ]
  },
  {
   "cell_type": "code",
   "execution_count": 13,
   "metadata": {},
   "outputs": [
    {
     "data": {
      "text/plain": [
       "<function matplotlib.pyplot.show(*args, **kw)>"
      ]
     },
     "execution_count": 13,
     "metadata": {},
     "output_type": "execute_result"
    },
    {
     "data": {
      "image/png": "[encoded data removed]",
      "text/plain": [
       "<Figure size 432x288 with 1 Axes>"
      ]
     },
     "metadata": {
      "needs_background": "light"
     },
     "output_type": "display_data"
    }
   ],
   "source": [
    "plt.hist(df['Y Coordinate'])\n",
    "plt.show"
   ]
  },
  {
   "cell_type": "markdown",
   "metadata": {},
   "source": [
    "Next we use countplot to visualize the categorical attributes"
   ]
  },
  {
   "cell_type": "code",
   "execution_count": 14,
   "metadata": {},
   "outputs": [
    {
     "data": {
      "text/plain": [
       "<seaborn.axisgrid.FacetGrid at 0x2a0d2c43a60>"
      ]
     },
     "execution_count": 14,
     "metadata": {},
     "output_type": "execute_result"
    },
    {
     "data": {
      "image/png": "[encoded data removed]",
      "text/plain": [
       "<Figure size 1440x1440 with 1 Axes>"
      ]
     },
     "metadata": {
      "needs_background": "light"
     },
     "output_type": "display_data"
    }
   ],
   "source": [
    "sns.catplot(y=\"Primary Type\", kind=\"count\",\n",
    "            palette=\"pastel\", edgecolor=\"0.3\",\n",
    "            data=df, height = 20)"
   ]
  },
  {
   "cell_type": "markdown",
   "metadata": {},
   "source": [
    "As we can see from the barplot above, that the most of the criminal acts that occur are `Theft`, followed by `Battery`, and `Criminal Damage`"
   ]
  },
  {
   "cell_type": "code",
   "execution_count": 15,
   "metadata": {},
   "outputs": [
    {
     "data": {
      "text/plain": [
       "<seaborn.axisgrid.FacetGrid at 0x2a0d2bed700>"
      ]
     },
     "execution_count": 15,
     "metadata": {},
     "output_type": "execute_result"
    },
    {
     "data": {
      "image/png": "[encoded data removed]",
      "text/plain": [
       "<Figure size 1080x1080 with 1 Axes>"
      ]
     },
     "metadata": {
      "needs_background": "light"
     },
     "output_type": "display_data"
    }
   ],
   "source": [
    "sns.catplot(y=\"Year\", kind=\"count\",\n",
    "            palette=\"pastel\", edgecolor=\"0.3\",\n",
    "            data=df, height = 15)"
   ]
  },
  {
   "cell_type": "markdown",
   "metadata": {},
   "source": [
    "As we can see from the barplot above, that the most of the criminal acts occur in `2016` and `2017`"
   ]
  },
  {
   "cell_type": "markdown",
   "metadata": {},
   "source": [
    "### Checking Missing Values"
   ]
  },
  {
   "cell_type": "code",
   "execution_count": 16,
   "metadata": {},
   "outputs": [
    {
     "data": {
      "text/plain": [
       "Unnamed: 0                  0\n",
       "ID                          0\n",
       "Case Number                 0\n",
       "Date                        0\n",
       "Block                       0\n",
       "IUCR                        0\n",
       "Primary Type                0\n",
       "Description                 0\n",
       "Location Description     3267\n",
       "Arrest                      0\n",
       "Domestic                    0\n",
       "Beat                        0\n",
       "District                    1\n",
       "Ward                        6\n",
       "Community Area              2\n",
       "FBI Code                    0\n",
       "X Coordinate            12563\n",
       "Y Coordinate            12563\n",
       "Year                        0\n",
       "Updated On                  0\n",
       "Latitude                12563\n",
       "Longitude               12563\n",
       "Location                12563\n",
       "dtype: int64"
      ]
     },
     "execution_count": 16,
     "metadata": {},
     "output_type": "execute_result"
    }
   ],
   "source": [
    "df.isna().sum()"
   ]
  },
  {
   "cell_type": "markdown",
   "metadata": {},
   "source": [
    "We can check whether the dataset has missing values or no, by using `isna()` method.\n",
    "\n",
    "As we can see, that some attributes has missing values : \n",
    "- Location Description : 3267\n",
    "- District : 1\n",
    "- Ward : 6\n",
    "- Community Area : 2\n",
    "- X Coordinate : 12563\n",
    "- Y Coordinate : 12563\n",
    "- Latitude : 12563\n",
    "- Longitude : 12563\n",
    "- Location : 12563\n",
    "\n",
    "We can see the percentage of the missing values by dividing the missing values of each attribute by 1031744 (total data) and multiply by 100"
   ]
  },
  {
   "cell_type": "code",
   "execution_count": 17,
   "metadata": {},
   "outputs": [],
   "source": [
    "missingValuesPercentage = (df.isna().sum() / len(df)) * 100"
   ]
  },
  {
   "cell_type": "code",
   "execution_count": 18,
   "metadata": {},
   "outputs": [
    {
     "data": {
      "text/plain": [
       "Unnamed: 0              0.000000\n",
       "ID                      0.000000\n",
       "Case Number             0.000000\n",
       "Date                    0.000000\n",
       "Block                   0.000000\n",
       "IUCR                    0.000000\n",
       "Primary Type            0.000000\n",
       "Description             0.000000\n",
       "Location Description    0.316648\n",
       "Arrest                  0.000000\n",
       "Domestic                0.000000\n",
       "Beat                    0.000000\n",
       "District                0.000097\n",
       "Ward                    0.000582\n",
       "Community Area          0.000194\n",
       "FBI Code                0.000000\n",
       "X Coordinate            1.217647\n",
       "Y Coordinate            1.217647\n",
       "Year                    0.000000\n",
       "Updated On              0.000000\n",
       "Latitude                1.217647\n",
       "Longitude               1.217647\n",
       "Location                1.217647\n",
       "dtype: float64"
      ]
     },
     "execution_count": 18,
     "metadata": {},
     "output_type": "execute_result"
    }
   ],
   "source": [
    "missingValuesPercentage"
   ]
  },
  {
   "cell_type": "markdown",
   "metadata": {},
   "source": [
    "So, here are the percentage of each missing value : \n",
    "\n",
    "- Location Description : 0.316648 %\n",
    "- District : 0.000097 %\n",
    "- Ward : 0.000582 %\n",
    "- Community Area : 0.000194 %\n",
    "- X Coordinate : 1.217647 %\n",
    "- Y Coordinate : 1.217647 %\n",
    "- Latitude : 1.217647 %\n",
    "- Longitude : 1.217647 %\n",
    "- Location : 1.217647 %\n",
    "\n",
    "We can remove the missing value later, so that our data is clean from missing value."
   ]
  },
  {
   "cell_type": "markdown",
   "metadata": {},
   "source": [
    "### Correlation"
   ]
  },
  {
   "cell_type": "markdown",
   "metadata": {},
   "source": [
    "We can see the correlation between attributes using `corr` method"
   ]
  },
  {
   "cell_type": "code",
   "execution_count": 19,
   "metadata": {},
   "outputs": [
    {
     "data": {
      "text/html": [
       "<div>\n",
       "<style scoped>\n",
       "    .dataframe tbody tr th:only-of-type {\n",
       "        vertical-align: middle;\n",
       "    }\n",
       "\n",
       "    .dataframe tbody tr th {\n",
       "        vertical-align: top;\n",
       "    }\n",
       "\n",
       "    .dataframe thead th {\n",
       "        text-align: right;\n",
       "    }\n",
       "</style>\n",
       "<table border=\"1\" class=\"dataframe\">\n",
       "  <thead>\n",
       "    <tr style=\"text-align: right;\">\n",
       "      <th></th>\n",
       "      <th>Unnamed: 0</th>\n",
       "      <th>ID</th>\n",
       "      <th>Arrest</th>\n",
       "      <th>Domestic</th>\n",
       "      <th>Beat</th>\n",
       "      <th>District</th>\n",
       "      <th>Ward</th>\n",
       "      <th>Community Area</th>\n",
       "      <th>X Coordinate</th>\n",
       "      <th>Y Coordinate</th>\n",
       "      <th>Year</th>\n",
       "      <th>Latitude</th>\n",
       "      <th>Longitude</th>\n",
       "    </tr>\n",
       "  </thead>\n",
       "  <tbody>\n",
       "    <tr>\n",
       "      <th>Unnamed: 0</th>\n",
       "      <td>1.000000</td>\n",
       "      <td>0.619242</td>\n",
       "      <td>-0.038335</td>\n",
       "      <td>0.009086</td>\n",
       "      <td>-0.002889</td>\n",
       "      <td>-0.002882</td>\n",
       "      <td>0.014496</td>\n",
       "      <td>-0.015820</td>\n",
       "      <td>0.012545</td>\n",
       "      <td>0.008968</td>\n",
       "      <td>0.972282</td>\n",
       "      <td>0.008901</td>\n",
       "      <td>0.012798</td>\n",
       "    </tr>\n",
       "    <tr>\n",
       "      <th>ID</th>\n",
       "      <td>0.619242</td>\n",
       "      <td>1.000000</td>\n",
       "      <td>-0.047438</td>\n",
       "      <td>0.011389</td>\n",
       "      <td>0.005324</td>\n",
       "      <td>0.005378</td>\n",
       "      <td>0.020361</td>\n",
       "      <td>-0.024534</td>\n",
       "      <td>0.010323</td>\n",
       "      <td>0.021032</td>\n",
       "      <td>0.668731</td>\n",
       "      <td>0.020947</td>\n",
       "      <td>0.010740</td>\n",
       "    </tr>\n",
       "    <tr>\n",
       "      <th>Arrest</th>\n",
       "      <td>-0.038335</td>\n",
       "      <td>-0.047438</td>\n",
       "      <td>1.000000</td>\n",
       "      <td>-0.035033</td>\n",
       "      <td>-0.031986</td>\n",
       "      <td>-0.032082</td>\n",
       "      <td>-0.023560</td>\n",
       "      <td>0.034056</td>\n",
       "      <td>-0.028767</td>\n",
       "      <td>-0.040441</td>\n",
       "      <td>-0.045000</td>\n",
       "      <td>-0.040240</td>\n",
       "      <td>-0.029623</td>\n",
       "    </tr>\n",
       "    <tr>\n",
       "      <th>Domestic</th>\n",
       "      <td>0.009086</td>\n",
       "      <td>0.011389</td>\n",
       "      <td>-0.035033</td>\n",
       "      <td>1.000000</td>\n",
       "      <td>-0.054418</td>\n",
       "      <td>-0.054452</td>\n",
       "      <td>-0.081570</td>\n",
       "      <td>0.096904</td>\n",
       "      <td>0.017577</td>\n",
       "      <td>-0.111847</td>\n",
       "      <td>0.007442</td>\n",
       "      <td>-0.111680</td>\n",
       "      <td>0.015962</td>\n",
       "    </tr>\n",
       "    <tr>\n",
       "      <th>Beat</th>\n",
       "      <td>-0.002889</td>\n",
       "      <td>0.005324</td>\n",
       "      <td>-0.031986</td>\n",
       "      <td>-0.054418</td>\n",
       "      <td>1.000000</td>\n",
       "      <td>0.999723</td>\n",
       "      <td>0.659778</td>\n",
       "      <td>-0.485325</td>\n",
       "      <td>-0.547681</td>\n",
       "      <td>0.624609</td>\n",
       "      <td>-0.002826</td>\n",
       "      <td>0.625438</td>\n",
       "      <td>-0.542703</td>\n",
       "    </tr>\n",
       "    <tr>\n",
       "      <th>District</th>\n",
       "      <td>-0.002882</td>\n",
       "      <td>0.005378</td>\n",
       "      <td>-0.032082</td>\n",
       "      <td>-0.054452</td>\n",
       "      <td>0.999723</td>\n",
       "      <td>1.000000</td>\n",
       "      <td>0.661105</td>\n",
       "      <td>-0.485908</td>\n",
       "      <td>-0.548559</td>\n",
       "      <td>0.625830</td>\n",
       "      <td>-0.002817</td>\n",
       "      <td>0.626660</td>\n",
       "      <td>-0.543568</td>\n",
       "    </tr>\n",
       "    <tr>\n",
       "      <th>Ward</th>\n",
       "      <td>0.014496</td>\n",
       "      <td>0.020361</td>\n",
       "      <td>-0.023560</td>\n",
       "      <td>-0.081570</td>\n",
       "      <td>0.659778</td>\n",
       "      <td>0.661105</td>\n",
       "      <td>1.000000</td>\n",
       "      <td>-0.533907</td>\n",
       "      <td>-0.438736</td>\n",
       "      <td>0.656941</td>\n",
       "      <td>0.016120</td>\n",
       "      <td>0.657259</td>\n",
       "      <td>-0.432346</td>\n",
       "    </tr>\n",
       "    <tr>\n",
       "      <th>Community Area</th>\n",
       "      <td>-0.015820</td>\n",
       "      <td>-0.024534</td>\n",
       "      <td>0.034056</td>\n",
       "      <td>0.096904</td>\n",
       "      <td>-0.485325</td>\n",
       "      <td>-0.485908</td>\n",
       "      <td>-0.533907</td>\n",
       "      <td>1.000000</td>\n",
       "      <td>0.243417</td>\n",
       "      <td>-0.775952</td>\n",
       "      <td>-0.018341</td>\n",
       "      <td>-0.775239</td>\n",
       "      <td>0.233717</td>\n",
       "    </tr>\n",
       "    <tr>\n",
       "      <th>X Coordinate</th>\n",
       "      <td>0.012545</td>\n",
       "      <td>0.010323</td>\n",
       "      <td>-0.028767</td>\n",
       "      <td>0.017577</td>\n",
       "      <td>-0.547681</td>\n",
       "      <td>-0.548559</td>\n",
       "      <td>-0.438736</td>\n",
       "      <td>0.243417</td>\n",
       "      <td>1.000000</td>\n",
       "      <td>-0.546065</td>\n",
       "      <td>0.014228</td>\n",
       "      <td>-0.548815</td>\n",
       "      <td>0.999918</td>\n",
       "    </tr>\n",
       "    <tr>\n",
       "      <th>Y Coordinate</th>\n",
       "      <td>0.008968</td>\n",
       "      <td>0.021032</td>\n",
       "      <td>-0.040441</td>\n",
       "      <td>-0.111847</td>\n",
       "      <td>0.624609</td>\n",
       "      <td>0.625830</td>\n",
       "      <td>0.656941</td>\n",
       "      <td>-0.775952</td>\n",
       "      <td>-0.546065</td>\n",
       "      <td>1.000000</td>\n",
       "      <td>0.010902</td>\n",
       "      <td>0.999995</td>\n",
       "      <td>-0.535363</td>\n",
       "    </tr>\n",
       "    <tr>\n",
       "      <th>Year</th>\n",
       "      <td>0.972282</td>\n",
       "      <td>0.668731</td>\n",
       "      <td>-0.045000</td>\n",
       "      <td>0.007442</td>\n",
       "      <td>-0.002826</td>\n",
       "      <td>-0.002817</td>\n",
       "      <td>0.016120</td>\n",
       "      <td>-0.018341</td>\n",
       "      <td>0.014228</td>\n",
       "      <td>0.010902</td>\n",
       "      <td>1.000000</td>\n",
       "      <td>0.010825</td>\n",
       "      <td>0.014526</td>\n",
       "    </tr>\n",
       "    <tr>\n",
       "      <th>Latitude</th>\n",
       "      <td>0.008901</td>\n",
       "      <td>0.020947</td>\n",
       "      <td>-0.040240</td>\n",
       "      <td>-0.111680</td>\n",
       "      <td>0.625438</td>\n",
       "      <td>0.626660</td>\n",
       "      <td>0.657259</td>\n",
       "      <td>-0.775239</td>\n",
       "      <td>-0.548815</td>\n",
       "      <td>0.999995</td>\n",
       "      <td>0.010825</td>\n",
       "      <td>1.000000</td>\n",
       "      <td>-0.538135</td>\n",
       "    </tr>\n",
       "    <tr>\n",
       "      <th>Longitude</th>\n",
       "      <td>0.012798</td>\n",
       "      <td>0.010740</td>\n",
       "      <td>-0.029623</td>\n",
       "      <td>0.015962</td>\n",
       "      <td>-0.542703</td>\n",
       "      <td>-0.543568</td>\n",
       "      <td>-0.432346</td>\n",
       "      <td>0.233717</td>\n",
       "      <td>0.999918</td>\n",
       "      <td>-0.535363</td>\n",
       "      <td>0.014526</td>\n",
       "      <td>-0.538135</td>\n",
       "      <td>1.000000</td>\n",
       "    </tr>\n",
       "  </tbody>\n",
       "</table>\n",
       "</div>"
      ],
      "text/plain": [
       "                Unnamed: 0        ID    Arrest  Domestic      Beat  District  \\\n",
       "Unnamed: 0        1.000000  0.619242 -0.038335  0.009086 -0.002889 -0.002882   \n",
       "ID                0.619242  1.000000 -0.047438  0.011389  0.005324  0.005378   \n",
       "Arrest           -0.038335 -0.047438  1.000000 -0.035033 -0.031986 -0.032082   \n",
       "Domestic          0.009086  0.011389 -0.035033  1.000000 -0.054418 -0.054452   \n",
       "Beat             -0.002889  0.005324 -0.031986 -0.054418  1.000000  0.999723   \n",
       "District         -0.002882  0.005378 -0.032082 -0.054452  0.999723  1.000000   \n",
       "Ward              0.014496  0.020361 -0.023560 -0.081570  0.659778  0.661105   \n",
       "Community Area   -0.015820 -0.024534  0.034056  0.096904 -0.485325 -0.485908   \n",
       "X Coordinate      0.012545  0.010323 -0.028767  0.017577 -0.547681 -0.548559   \n",
       "Y Coordinate      0.008968  0.021032 -0.040441 -0.111847  0.624609  0.625830   \n",
       "Year              0.972282  0.668731 -0.045000  0.007442 -0.002826 -0.002817   \n",
       "Latitude          0.008901  0.020947 -0.040240 -0.111680  0.625438  0.626660   \n",
       "Longitude         0.012798  0.010740 -0.029623  0.015962 -0.542703 -0.543568   \n",
       "\n",
       "                    Ward  Community Area  X Coordinate  Y Coordinate  \\\n",
       "Unnamed: 0      0.014496       -0.015820      0.012545      0.008968   \n",
       "ID              0.020361       -0.024534      0.010323      0.021032   \n",
       "Arrest         -0.023560        0.034056     -0.028767     -0.040441   \n",
       "Domestic       -0.081570        0.096904      0.017577     -0.111847   \n",
       "Beat            0.659778       -0.485325     -0.547681      0.624609   \n",
       "District        0.661105       -0.485908     -0.548559      0.625830   \n",
       "Ward            1.000000       -0.533907     -0.438736      0.656941   \n",
       "Community Area -0.533907        1.000000      0.243417     -0.775952   \n",
       "X Coordinate   -0.438736        0.243417      1.000000     -0.546065   \n",
       "Y Coordinate    0.656941       -0.775952     -0.546065      1.000000   \n",
       "Year            0.016120       -0.018341      0.014228      0.010902   \n",
       "Latitude        0.657259       -0.775239     -0.548815      0.999995   \n",
       "Longitude      -0.432346        0.233717      0.999918     -0.535363   \n",
       "\n",
       "                    Year  Latitude  Longitude  \n",
       "Unnamed: 0      0.972282  0.008901   0.012798  \n",
       "ID              0.668731  0.020947   0.010740  \n",
       "Arrest         -0.045000 -0.040240  -0.029623  \n",
       "Domestic        0.007442 -0.111680   0.015962  \n",
       "Beat           -0.002826  0.625438  -0.542703  \n",
       "District       -0.002817  0.626660  -0.543568  \n",
       "Ward            0.016120  0.657259  -0.432346  \n",
       "Community Area -0.018341 -0.775239   0.233717  \n",
       "X Coordinate    0.014228 -0.548815   0.999918  \n",
       "Y Coordinate    0.010902  0.999995  -0.535363  \n",
       "Year            1.000000  0.010825   0.014526  \n",
       "Latitude        0.010825  1.000000  -0.538135  \n",
       "Longitude       0.014526 -0.538135   1.000000  "
      ]
     },
     "execution_count": 19,
     "metadata": {},
     "output_type": "execute_result"
    }
   ],
   "source": [
    "df.corr()"
   ]
  },
  {
   "cell_type": "markdown",
   "metadata": {},
   "source": [
    "To visualize it, we can also use heatmap, so it is easier for us to give a analysis or conclusion using `heatmap` method in seaborn library"
   ]
  },
  {
   "cell_type": "code",
   "execution_count": 20,
   "metadata": {},
   "outputs": [
    {
     "data": {
      "text/plain": [
       "<matplotlib.axes._subplots.AxesSubplot at 0x2a0d29f0130>"
      ]
     },
     "execution_count": 20,
     "metadata": {},
     "output_type": "execute_result"
    },
    {
     "data": {
      "image/png": "[encoded data removed]",
      "text/plain": [
       "<Figure size 1080x576 with 2 Axes>"
      ]
     },
     "metadata": {
      "needs_background": "light"
     },
     "output_type": "display_data"
    }
   ],
   "source": [
    "plt.figure(figsize=(15, 8))\n",
    "sns.heatmap(df.corr(), annot=True, cmap='coolwarm')"
   ]
  },
  {
   "cell_type": "markdown",
   "metadata": {},
   "source": [
    "The closer the correlation value to 1 or -1, the stronger the correlation between the two attributes\n",
    "The closer the correlation value to 0, the weaker the correlation between the two attributes\n",
    "\n",
    "As we can see in heatmap, Correlation between `X Coordinate` and `Longitude` is **1** because they have the same value.\n",
    "\n",
    "On the other side, Correlation between `Domestic` and `ID` have the lowest correlation value which is **0.011** and so close to 0, which means that there is nearly no correlation between `Domestic` and `ID`"
   ]
  },
  {
   "cell_type": "markdown",
   "metadata": {},
   "source": [
    "## 3. Data Preparation (30 pts.)"
   ]
  },
  {
   "cell_type": "markdown",
   "metadata": {},
   "source": [
    "### Drop The Missing Value"
   ]
  },
  {
   "cell_type": "markdown",
   "metadata": {},
   "source": [
    "We can just drop the missing value for each attributes using `dropna` method."
   ]
  },
  {
   "cell_type": "code",
   "execution_count": 5,
   "metadata": {},
   "outputs": [],
   "source": [
    "df = df.dropna()"
   ]
  },
  {
   "cell_type": "code",
   "execution_count": 6,
   "metadata": {},
   "outputs": [
    {
     "data": {
      "text/plain": [
       "Unnamed: 0              0\n",
       "ID                      0\n",
       "Case Number             0\n",
       "Date                    0\n",
       "Block                   0\n",
       "IUCR                    0\n",
       "Primary Type            0\n",
       "Description             0\n",
       "Location Description    0\n",
       "Arrest                  0\n",
       "Domestic                0\n",
       "Beat                    0\n",
       "District                0\n",
       "Ward                    0\n",
       "Community Area          0\n",
       "FBI Code                0\n",
       "X Coordinate            0\n",
       "Y Coordinate            0\n",
       "Year                    0\n",
       "Updated On              0\n",
       "Latitude                0\n",
       "Longitude               0\n",
       "Location                0\n",
       "dtype: int64"
      ]
     },
     "execution_count": 6,
     "metadata": {},
     "output_type": "execute_result"
    }
   ],
   "source": [
    "df.isna().sum()"
   ]
  },
  {
   "cell_type": "markdown",
   "metadata": {},
   "source": [
    "After we drop the missing values, we can see that the dataset have no more missing values. "
   ]
  },
  {
   "cell_type": "markdown",
   "metadata": {},
   "source": [
    "### Split the Date Attributes into Month, Day, and Hour"
   ]
  },
  {
   "cell_type": "code",
   "execution_count": 7,
   "metadata": {},
   "outputs": [
    {
     "data": {
      "text/plain": [
       "0          03/12/2018 07:32:00 PM\n",
       "1          05/29/2016 11:28:00 PM\n",
       "2          03/16/2019 02:10:00 AM\n",
       "3          10/05/2017 11:00:00 AM\n",
       "4          02/26/2018 07:51:00 PM\n",
       "                    ...          \n",
       "1031739    12/19/2017 08:10:00 PM\n",
       "1031740    03/16/2017 01:00:00 PM\n",
       "1031741    07/18/2015 09:30:00 PM\n",
       "1031742    07/17/2018 10:56:00 PM\n",
       "1031743    09/21/2016 01:10:00 PM\n",
       "Name: Date, Length: 1016837, dtype: object"
      ]
     },
     "execution_count": 7,
     "metadata": {},
     "output_type": "execute_result"
    }
   ],
   "source": [
    "df['Date']"
   ]
  },
  {
   "cell_type": "markdown",
   "metadata": {},
   "source": [
    "Here I make a define function to Re-format the Date variables. So that we can split it into Month, Day, and Hour later"
   ]
  },
  {
   "cell_type": "code",
   "execution_count": 8,
   "metadata": {},
   "outputs": [],
   "source": [
    "from datetime import datetime\n",
    "\n",
    "def convertDateFormat(dates):\n",
    "    month = dates[:2]\n",
    "    date = dates[3:5]\n",
    "    year = dates[6:10]\n",
    "    hour = dates[11:13]\n",
    "    minutes = dates[14:16]\n",
    "    second = dates[17:19]\n",
    "    meridiem = dates[20:22]\n",
    "    \n",
    "    if(meridiem == 'AM'):\n",
    "        if(int(hour) == 12):\n",
    "            hour = '00'\n",
    "    else :\n",
    "        if(int(hour) != 12):\n",
    "            hour = str(int(hour) + 12)\n",
    "\n",
    "    Dformat = datetime(int(year), int(month), int(date), int(hour), int(minutes), int(second))\n",
    "    return Dformat"
   ]
  },
  {
   "cell_type": "code",
   "execution_count": 9,
   "metadata": {},
   "outputs": [],
   "source": [
    "df['Date'] = df['Date'].apply(convertDateFormat)"
   ]
  },
  {
   "cell_type": "code",
   "execution_count": 10,
   "metadata": {},
   "outputs": [
    {
     "data": {
      "text/plain": [
       "0         2018-03-12 19:32:00\n",
       "1         2016-05-29 23:28:00\n",
       "2         2019-03-16 02:10:00\n",
       "3         2017-10-05 11:00:00\n",
       "4         2018-02-26 19:51:00\n",
       "                  ...        \n",
       "1031739   2017-12-19 20:10:00\n",
       "1031740   2017-03-16 13:00:00\n",
       "1031741   2015-07-18 21:30:00\n",
       "1031742   2018-07-17 22:56:00\n",
       "1031743   2016-09-21 13:10:00\n",
       "Name: Date, Length: 1016837, dtype: datetime64[ns]"
      ]
     },
     "execution_count": 10,
     "metadata": {},
     "output_type": "execute_result"
    }
   ],
   "source": [
    "df['Date']"
   ]
  },
  {
   "cell_type": "markdown",
   "metadata": {},
   "source": [
    "After we have already re-format the date, I make some function to split the Month, Day, and Hour"
   ]
  },
  {
   "cell_type": "code",
   "execution_count": 11,
   "metadata": {},
   "outputs": [],
   "source": [
    "def splitMonth(x):\n",
    "    return int(x.strftime(\"%m\"))\n",
    "\n",
    "def splitDay(x):\n",
    "    return int(x.strftime(\"%w\"))\n",
    "\n",
    "def splitHour(x):\n",
    "    return int(x.strftime(\"%H\"))"
   ]
  },
  {
   "cell_type": "markdown",
   "metadata": {},
   "source": [
    "Apply the function to the date variables that we have already re-format, and add the variables `Month`, `Day`, and `Hour` to the dataframes"
   ]
  },
  {
   "cell_type": "code",
   "execution_count": 12,
   "metadata": {},
   "outputs": [],
   "source": [
    "df['Month'] = df['Date'].apply(splitMonth)\n",
    "df['Day'] = df['Date'].apply(splitDay)\n",
    "df['Hour'] = df['Date'].apply(splitHour)"
   ]
  },
  {
   "cell_type": "code",
   "execution_count": 13,
   "metadata": {},
   "outputs": [
    {
     "data": {
      "text/html": [
       "<div>\n",
       "<style scoped>\n",
       "    .dataframe tbody tr th:only-of-type {\n",
       "        vertical-align: middle;\n",
       "    }\n",
       "\n",
       "    .dataframe tbody tr th {\n",
       "        vertical-align: top;\n",
       "    }\n",
       "\n",
       "    .dataframe thead th {\n",
       "        text-align: right;\n",
       "    }\n",
       "</style>\n",
       "<table border=\"1\" class=\"dataframe\">\n",
       "  <thead>\n",
       "    <tr style=\"text-align: right;\">\n",
       "      <th></th>\n",
       "      <th>Unnamed: 0</th>\n",
       "      <th>ID</th>\n",
       "      <th>Case Number</th>\n",
       "      <th>Date</th>\n",
       "      <th>Block</th>\n",
       "      <th>IUCR</th>\n",
       "      <th>Primary Type</th>\n",
       "      <th>Description</th>\n",
       "      <th>Location Description</th>\n",
       "      <th>Arrest</th>\n",
       "      <th>...</th>\n",
       "      <th>X Coordinate</th>\n",
       "      <th>Y Coordinate</th>\n",
       "      <th>Year</th>\n",
       "      <th>Updated On</th>\n",
       "      <th>Latitude</th>\n",
       "      <th>Longitude</th>\n",
       "      <th>Location</th>\n",
       "      <th>Month</th>\n",
       "      <th>Day</th>\n",
       "      <th>Hour</th>\n",
       "    </tr>\n",
       "  </thead>\n",
       "  <tbody>\n",
       "    <tr>\n",
       "      <th>0</th>\n",
       "      <td>1024161</td>\n",
       "      <td>11254362</td>\n",
       "      <td>JB183495</td>\n",
       "      <td>2018-03-12 19:32:00</td>\n",
       "      <td>017XX W CHICAGO AVE</td>\n",
       "      <td>0560</td>\n",
       "      <td>ASSAULT</td>\n",
       "      <td>SIMPLE</td>\n",
       "      <td>RESTAURANT</td>\n",
       "      <td>False</td>\n",
       "      <td>...</td>\n",
       "      <td>1164432.0</td>\n",
       "      <td>1905388.0</td>\n",
       "      <td>2018</td>\n",
       "      <td>05/04/2018 03:51:04 PM</td>\n",
       "      <td>41.896002</td>\n",
       "      <td>-87.671521</td>\n",
       "      <td>(41.896002063, -87.671521286)</td>\n",
       "      <td>3</td>\n",
       "      <td>1</td>\n",
       "      <td>19</td>\n",
       "    </tr>\n",
       "    <tr>\n",
       "      <th>1</th>\n",
       "      <td>428801</td>\n",
       "      <td>10540177</td>\n",
       "      <td>HZ285387</td>\n",
       "      <td>2016-05-29 23:28:00</td>\n",
       "      <td>027XX S STATE ST</td>\n",
       "      <td>0454</td>\n",
       "      <td>BATTERY</td>\n",
       "      <td>AGG PO HANDS NO/MIN INJURY</td>\n",
       "      <td>CHA APARTMENT</td>\n",
       "      <td>True</td>\n",
       "      <td>...</td>\n",
       "      <td>1176730.0</td>\n",
       "      <td>1886544.0</td>\n",
       "      <td>2016</td>\n",
       "      <td>02/10/2018 03:50:01 PM</td>\n",
       "      <td>41.844024</td>\n",
       "      <td>-87.626923</td>\n",
       "      <td>(41.844023772, -87.626923253)</td>\n",
       "      <td>5</td>\n",
       "      <td>0</td>\n",
       "      <td>23</td>\n",
       "    </tr>\n",
       "    <tr>\n",
       "      <th>2</th>\n",
       "      <td>1099812</td>\n",
       "      <td>11624449</td>\n",
       "      <td>JC187320</td>\n",
       "      <td>2019-03-16 02:10:00</td>\n",
       "      <td>101XX S PRINCETON AVE</td>\n",
       "      <td>031A</td>\n",
       "      <td>ROBBERY</td>\n",
       "      <td>ARMED: HANDGUN</td>\n",
       "      <td>STREET</td>\n",
       "      <td>False</td>\n",
       "      <td>...</td>\n",
       "      <td>1176072.0</td>\n",
       "      <td>1837879.0</td>\n",
       "      <td>2019</td>\n",
       "      <td>03/23/2019 04:03:16 PM</td>\n",
       "      <td>41.710497</td>\n",
       "      <td>-87.630797</td>\n",
       "      <td>(41.710496583, -87.630796959)</td>\n",
       "      <td>3</td>\n",
       "      <td>6</td>\n",
       "      <td>2</td>\n",
       "    </tr>\n",
       "    <tr>\n",
       "      <th>3</th>\n",
       "      <td>595228</td>\n",
       "      <td>11109388</td>\n",
       "      <td>JA459177</td>\n",
       "      <td>2017-10-05 11:00:00</td>\n",
       "      <td>019XX W OGDEN AVE</td>\n",
       "      <td>0810</td>\n",
       "      <td>THEFT</td>\n",
       "      <td>OVER $500</td>\n",
       "      <td>HOSPITAL BUILDING/GROUNDS</td>\n",
       "      <td>False</td>\n",
       "      <td>...</td>\n",
       "      <td>1163312.0</td>\n",
       "      <td>1897077.0</td>\n",
       "      <td>2017</td>\n",
       "      <td>02/10/2018 03:50:01 PM</td>\n",
       "      <td>41.873220</td>\n",
       "      <td>-87.675869</td>\n",
       "      <td>(41.873219626, -87.675868666)</td>\n",
       "      <td>10</td>\n",
       "      <td>4</td>\n",
       "      <td>11</td>\n",
       "    </tr>\n",
       "    <tr>\n",
       "      <th>4</th>\n",
       "      <td>1033611</td>\n",
       "      <td>11241624</td>\n",
       "      <td>JB166623</td>\n",
       "      <td>2018-02-26 19:51:00</td>\n",
       "      <td>067XX S COTTAGE GROVE AVE</td>\n",
       "      <td>1330</td>\n",
       "      <td>CRIMINAL TRESPASS</td>\n",
       "      <td>TO LAND</td>\n",
       "      <td>GAS STATION</td>\n",
       "      <td>True</td>\n",
       "      <td>...</td>\n",
       "      <td>1182717.0</td>\n",
       "      <td>1860597.0</td>\n",
       "      <td>2018</td>\n",
       "      <td>05/04/2018 03:51:04 PM</td>\n",
       "      <td>41.772686</td>\n",
       "      <td>-87.605758</td>\n",
       "      <td>(41.77268594, -87.605758495)</td>\n",
       "      <td>2</td>\n",
       "      <td>1</td>\n",
       "      <td>19</td>\n",
       "    </tr>\n",
       "  </tbody>\n",
       "</table>\n",
       "<p>5 rows × 26 columns</p>\n",
       "</div>"
      ],
      "text/plain": [
       "   Unnamed: 0        ID Case Number                Date  \\\n",
       "0     1024161  11254362    JB183495 2018-03-12 19:32:00   \n",
       "1      428801  10540177    HZ285387 2016-05-29 23:28:00   \n",
       "2     1099812  11624449    JC187320 2019-03-16 02:10:00   \n",
       "3      595228  11109388    JA459177 2017-10-05 11:00:00   \n",
       "4     1033611  11241624    JB166623 2018-02-26 19:51:00   \n",
       "\n",
       "                       Block  IUCR       Primary Type  \\\n",
       "0        017XX W CHICAGO AVE  0560            ASSAULT   \n",
       "1           027XX S STATE ST  0454            BATTERY   \n",
       "2      101XX S PRINCETON AVE  031A            ROBBERY   \n",
       "3          019XX W OGDEN AVE  0810              THEFT   \n",
       "4  067XX S COTTAGE GROVE AVE  1330  CRIMINAL TRESPASS   \n",
       "\n",
       "                  Description       Location Description  Arrest  ...  \\\n",
       "0                      SIMPLE                 RESTAURANT   False  ...   \n",
       "1  AGG PO HANDS NO/MIN INJURY              CHA APARTMENT    True  ...   \n",
       "2              ARMED: HANDGUN                     STREET   False  ...   \n",
       "3                   OVER $500  HOSPITAL BUILDING/GROUNDS   False  ...   \n",
       "4                     TO LAND                GAS STATION    True  ...   \n",
       "\n",
       "   X Coordinate  Y Coordinate  Year              Updated On   Latitude  \\\n",
       "0     1164432.0     1905388.0  2018  05/04/2018 03:51:04 PM  41.896002   \n",
       "1     1176730.0     1886544.0  2016  02/10/2018 03:50:01 PM  41.844024   \n",
       "2     1176072.0     1837879.0  2019  03/23/2019 04:03:16 PM  41.710497   \n",
       "3     1163312.0     1897077.0  2017  02/10/2018 03:50:01 PM  41.873220   \n",
       "4     1182717.0     1860597.0  2018  05/04/2018 03:51:04 PM  41.772686   \n",
       "\n",
       "   Longitude                       Location  Month  Day Hour  \n",
       "0 -87.671521  (41.896002063, -87.671521286)      3    1   19  \n",
       "1 -87.626923  (41.844023772, -87.626923253)      5    0   23  \n",
       "2 -87.630797  (41.710496583, -87.630796959)      3    6    2  \n",
       "3 -87.675869  (41.873219626, -87.675868666)     10    4   11  \n",
       "4 -87.605758   (41.77268594, -87.605758495)      2    1   19  \n",
       "\n",
       "[5 rows x 26 columns]"
      ]
     },
     "execution_count": 13,
     "metadata": {},
     "output_type": "execute_result"
    }
   ],
   "source": [
    "df.head()"
   ]
  },
  {
   "cell_type": "markdown",
   "metadata": {},
   "source": [
    "Here we can see that the variables have already added to the dataframes\n",
    "\n",
    "Here are the description of each variables : \n",
    "- Month : ranging from 1 - 12 where 1 = January and 12 = December\n",
    "- Day : ranging from 0 - 6 where 0 = Sunday and 6 = Saturday \n",
    "- Hour : ranging from 0 - 23 "
   ]
  },
  {
   "cell_type": "markdown",
   "metadata": {},
   "source": [
    "### Feature Engineering"
   ]
  },
  {
   "cell_type": "markdown",
   "metadata": {},
   "source": [
    "Take the `Month`, `Day`, `Hour`, `Primary Type`, and `District` to determine the Crime rate by counting the total crimes in particular hour, day, month, and district"
   ]
  },
  {
   "cell_type": "code",
   "execution_count": 14,
   "metadata": {},
   "outputs": [],
   "source": [
    "df1 = df[['Month', 'Day', 'Hour', 'District', 'Primary Type']]"
   ]
  },
  {
   "cell_type": "code",
   "execution_count": 15,
   "metadata": {},
   "outputs": [
    {
     "data": {
      "text/html": [
       "<div>\n",
       "<style scoped>\n",
       "    .dataframe tbody tr th:only-of-type {\n",
       "        vertical-align: middle;\n",
       "    }\n",
       "\n",
       "    .dataframe tbody tr th {\n",
       "        vertical-align: top;\n",
       "    }\n",
       "\n",
       "    .dataframe thead th {\n",
       "        text-align: right;\n",
       "    }\n",
       "</style>\n",
       "<table border=\"1\" class=\"dataframe\">\n",
       "  <thead>\n",
       "    <tr style=\"text-align: right;\">\n",
       "      <th></th>\n",
       "      <th>Month</th>\n",
       "      <th>Day</th>\n",
       "      <th>Hour</th>\n",
       "      <th>District</th>\n",
       "      <th>Primary Type</th>\n",
       "    </tr>\n",
       "  </thead>\n",
       "  <tbody>\n",
       "    <tr>\n",
       "      <th>0</th>\n",
       "      <td>3</td>\n",
       "      <td>1</td>\n",
       "      <td>19</td>\n",
       "      <td>12.0</td>\n",
       "      <td>ASSAULT</td>\n",
       "    </tr>\n",
       "    <tr>\n",
       "      <th>1</th>\n",
       "      <td>5</td>\n",
       "      <td>0</td>\n",
       "      <td>23</td>\n",
       "      <td>1.0</td>\n",
       "      <td>BATTERY</td>\n",
       "    </tr>\n",
       "    <tr>\n",
       "      <th>2</th>\n",
       "      <td>3</td>\n",
       "      <td>6</td>\n",
       "      <td>2</td>\n",
       "      <td>5.0</td>\n",
       "      <td>ROBBERY</td>\n",
       "    </tr>\n",
       "    <tr>\n",
       "      <th>3</th>\n",
       "      <td>10</td>\n",
       "      <td>4</td>\n",
       "      <td>11</td>\n",
       "      <td>12.0</td>\n",
       "      <td>THEFT</td>\n",
       "    </tr>\n",
       "    <tr>\n",
       "      <th>4</th>\n",
       "      <td>2</td>\n",
       "      <td>1</td>\n",
       "      <td>19</td>\n",
       "      <td>3.0</td>\n",
       "      <td>CRIMINAL TRESPASS</td>\n",
       "    </tr>\n",
       "  </tbody>\n",
       "</table>\n",
       "</div>"
      ],
      "text/plain": [
       "   Month  Day  Hour  District       Primary Type\n",
       "0      3    1    19      12.0            ASSAULT\n",
       "1      5    0    23       1.0            BATTERY\n",
       "2      3    6     2       5.0            ROBBERY\n",
       "3     10    4    11      12.0              THEFT\n",
       "4      2    1    19       3.0  CRIMINAL TRESPASS"
      ]
     },
     "execution_count": 15,
     "metadata": {},
     "output_type": "execute_result"
    }
   ],
   "source": [
    "df1.head()"
   ]
  },
  {
   "cell_type": "markdown",
   "metadata": {},
   "source": [
    "Here I use groupby function and aggregate it with the counts of the total crimes for particular hour, day, month, and district"
   ]
  },
  {
   "cell_type": "code",
   "execution_count": 16,
   "metadata": {},
   "outputs": [],
   "source": [
    "df1 = df1.groupby(['Month', 'Day', 'Hour', 'District'], as_index=False).agg({\"Primary Type\":\"count\"})"
   ]
  },
  {
   "cell_type": "code",
   "execution_count": 17,
   "metadata": {},
   "outputs": [
    {
     "data": {
      "text/html": [
       "<div>\n",
       "<style scoped>\n",
       "    .dataframe tbody tr th:only-of-type {\n",
       "        vertical-align: middle;\n",
       "    }\n",
       "\n",
       "    .dataframe tbody tr th {\n",
       "        vertical-align: top;\n",
       "    }\n",
       "\n",
       "    .dataframe thead th {\n",
       "        text-align: right;\n",
       "    }\n",
       "</style>\n",
       "<table border=\"1\" class=\"dataframe\">\n",
       "  <thead>\n",
       "    <tr style=\"text-align: right;\">\n",
       "      <th></th>\n",
       "      <th>Month</th>\n",
       "      <th>Day</th>\n",
       "      <th>Hour</th>\n",
       "      <th>District</th>\n",
       "      <th>Primary Type</th>\n",
       "    </tr>\n",
       "  </thead>\n",
       "  <tbody>\n",
       "    <tr>\n",
       "      <th>0</th>\n",
       "      <td>1</td>\n",
       "      <td>0</td>\n",
       "      <td>0</td>\n",
       "      <td>1.0</td>\n",
       "      <td>22</td>\n",
       "    </tr>\n",
       "    <tr>\n",
       "      <th>1</th>\n",
       "      <td>1</td>\n",
       "      <td>0</td>\n",
       "      <td>0</td>\n",
       "      <td>2.0</td>\n",
       "      <td>31</td>\n",
       "    </tr>\n",
       "    <tr>\n",
       "      <th>2</th>\n",
       "      <td>1</td>\n",
       "      <td>0</td>\n",
       "      <td>0</td>\n",
       "      <td>3.0</td>\n",
       "      <td>36</td>\n",
       "    </tr>\n",
       "    <tr>\n",
       "      <th>3</th>\n",
       "      <td>1</td>\n",
       "      <td>0</td>\n",
       "      <td>0</td>\n",
       "      <td>4.0</td>\n",
       "      <td>38</td>\n",
       "    </tr>\n",
       "    <tr>\n",
       "      <th>4</th>\n",
       "      <td>1</td>\n",
       "      <td>0</td>\n",
       "      <td>0</td>\n",
       "      <td>5.0</td>\n",
       "      <td>28</td>\n",
       "    </tr>\n",
       "  </tbody>\n",
       "</table>\n",
       "</div>"
      ],
      "text/plain": [
       "   Month  Day  Hour  District  Primary Type\n",
       "0      1    0     0       1.0            22\n",
       "1      1    0     0       2.0            31\n",
       "2      1    0     0       3.0            36\n",
       "3      1    0     0       4.0            38\n",
       "4      1    0     0       5.0            28"
      ]
     },
     "execution_count": 17,
     "metadata": {},
     "output_type": "execute_result"
    }
   ],
   "source": [
    "df1.head()"
   ]
  },
  {
   "cell_type": "markdown",
   "metadata": {},
   "source": [
    "Here we got the total counts for each particular hour, day, month, and district\n",
    "\n",
    "We can read the first row as, In January on Sunday at 00.00 AM in District 1, there are 22 crimes that occur"
   ]
  },
  {
   "cell_type": "markdown",
   "metadata": {},
   "source": [
    "Next we classify the total crimes by using this define function as follows, where :\n",
    "<ul><li><strong>0-14 : </strong>Low Crime Rate (0)</li>\n",
    "<li><strong>15-33 : </strong>Medium Crime Rate (1)</li>\n",
    "<li><strong>34 and above : </strong>High Crime Rate (2)</li>"
   ]
  },
  {
   "cell_type": "code",
   "execution_count": 18,
   "metadata": {},
   "outputs": [],
   "source": [
    "def crimeRate(x):\n",
    "    if(x <= 14):\n",
    "        return 0\n",
    "    elif(x > 14 and x <= 33):\n",
    "        return 1\n",
    "    else:\n",
    "        return 2"
   ]
  },
  {
   "cell_type": "markdown",
   "metadata": {},
   "source": [
    "Then, we apply the function to the `Primary Type`"
   ]
  },
  {
   "cell_type": "code",
   "execution_count": 19,
   "metadata": {},
   "outputs": [],
   "source": [
    "df1['Crime Rate'] = df1['Primary Type'].apply(crimeRate)"
   ]
  },
  {
   "cell_type": "code",
   "execution_count": 20,
   "metadata": {},
   "outputs": [
    {
     "data": {
      "text/html": [
       "<div>\n",
       "<style scoped>\n",
       "    .dataframe tbody tr th:only-of-type {\n",
       "        vertical-align: middle;\n",
       "    }\n",
       "\n",
       "    .dataframe tbody tr th {\n",
       "        vertical-align: top;\n",
       "    }\n",
       "\n",
       "    .dataframe thead th {\n",
       "        text-align: right;\n",
       "    }\n",
       "</style>\n",
       "<table border=\"1\" class=\"dataframe\">\n",
       "  <thead>\n",
       "    <tr style=\"text-align: right;\">\n",
       "      <th></th>\n",
       "      <th>Month</th>\n",
       "      <th>Day</th>\n",
       "      <th>Hour</th>\n",
       "      <th>District</th>\n",
       "      <th>Primary Type</th>\n",
       "      <th>Crime Rate</th>\n",
       "    </tr>\n",
       "  </thead>\n",
       "  <tbody>\n",
       "    <tr>\n",
       "      <th>0</th>\n",
       "      <td>1</td>\n",
       "      <td>0</td>\n",
       "      <td>0</td>\n",
       "      <td>1.0</td>\n",
       "      <td>22</td>\n",
       "      <td>1</td>\n",
       "    </tr>\n",
       "    <tr>\n",
       "      <th>1</th>\n",
       "      <td>1</td>\n",
       "      <td>0</td>\n",
       "      <td>0</td>\n",
       "      <td>2.0</td>\n",
       "      <td>31</td>\n",
       "      <td>1</td>\n",
       "    </tr>\n",
       "    <tr>\n",
       "      <th>2</th>\n",
       "      <td>1</td>\n",
       "      <td>0</td>\n",
       "      <td>0</td>\n",
       "      <td>3.0</td>\n",
       "      <td>36</td>\n",
       "      <td>2</td>\n",
       "    </tr>\n",
       "    <tr>\n",
       "      <th>3</th>\n",
       "      <td>1</td>\n",
       "      <td>0</td>\n",
       "      <td>0</td>\n",
       "      <td>4.0</td>\n",
       "      <td>38</td>\n",
       "      <td>2</td>\n",
       "    </tr>\n",
       "    <tr>\n",
       "      <th>4</th>\n",
       "      <td>1</td>\n",
       "      <td>0</td>\n",
       "      <td>0</td>\n",
       "      <td>5.0</td>\n",
       "      <td>28</td>\n",
       "      <td>1</td>\n",
       "    </tr>\n",
       "  </tbody>\n",
       "</table>\n",
       "</div>"
      ],
      "text/plain": [
       "   Month  Day  Hour  District  Primary Type  Crime Rate\n",
       "0      1    0     0       1.0            22           1\n",
       "1      1    0     0       2.0            31           1\n",
       "2      1    0     0       3.0            36           2\n",
       "3      1    0     0       4.0            38           2\n",
       "4      1    0     0       5.0            28           1"
      ]
     },
     "execution_count": 20,
     "metadata": {},
     "output_type": "execute_result"
    }
   ],
   "source": [
    "df1.head()"
   ]
  },
  {
   "cell_type": "markdown",
   "metadata": {},
   "source": [
    "Next we want to see the data proportion of each class"
   ]
  },
  {
   "cell_type": "code",
   "execution_count": 21,
   "metadata": {},
   "outputs": [
    {
     "data": {
      "text/plain": [
       "1    51.026895\n",
       "0    29.206213\n",
       "2    19.766891\n",
       "Name: Crime Rate, dtype: float64"
      ]
     },
     "execution_count": 21,
     "metadata": {},
     "output_type": "execute_result"
    }
   ],
   "source": [
    "df1['Crime Rate'].value_counts() * 100 / len(df1)"
   ]
  },
  {
   "cell_type": "markdown",
   "metadata": {},
   "source": [
    "As we can see from the table above, that the proportion of each class is imbalance "
   ]
  },
  {
   "cell_type": "markdown",
   "metadata": {},
   "source": [
    "Next, we prepare the data for the modeling "
   ]
  },
  {
   "cell_type": "code",
   "execution_count": 22,
   "metadata": {},
   "outputs": [],
   "source": [
    "x = df1[['Month', 'Day', 'Hour', 'District', 'Primary Type']]\n",
    "y = df1['Crime Rate']"
   ]
  },
  {
   "cell_type": "markdown",
   "metadata": {},
   "source": [
    "First, we define x as `Month`, `Day`, `Hour`, and `District` because there is a note that mention the model may be used for the effective deployment of police officers in a city across several districts regarding the degree to which each area is prone to crime at a particular hour, day, and month. And we define y variable as the `Crime Rate` because we want to use classify the Crime Rate by using the x variables.\n",
    "\n",
    "Then, we split the dataset into train model and test model\n",
    "\n",
    "We can use `train_test_split` method that sklearn library provides to split the dataset. Here I use the 8:2 ratio to split the data. So 80% data for train model and 20% data for test model.\n",
    "\n",
    "I also set the random_state to 42 so that the data doesn't randomized again and again if we want to rerun the code."
   ]
  },
  {
   "cell_type": "code",
   "execution_count": 23,
   "metadata": {},
   "outputs": [
    {
     "name": "stdout",
     "output_type": "stream",
     "text": [
      "(35485, 5) (35485,) (8872, 5) (8872,)\n"
     ]
    }
   ],
   "source": [
    "from sklearn.model_selection import train_test_split\n",
    "\n",
    "x_train, x_test, y_train, y_test = train_test_split(x, y, test_size = 0.2, random_state=42)\n",
    "print(x_train.shape, y_train.shape, x_test.shape, y_test.shape)"
   ]
  },
  {
   "cell_type": "markdown",
   "metadata": {},
   "source": [
    "As we can see, that the data was split into 35486 data (80%) for the train model and 8872 data (20%) for the test model\n",
    "\n",
    "We can also use `StandardScaler` method from sklearn library to normalize the data so that the data we used, doesn't have large deviations\n",
    "\n",
    "Here, I normalize the `x_train` and `x_test` variable"
   ]
  },
  {
   "cell_type": "code",
   "execution_count": 24,
   "metadata": {},
   "outputs": [],
   "source": [
    "from sklearn.preprocessing import StandardScaler\n",
    "\n",
    "scaler = StandardScaler()\n",
    "x_train = scaler.fit_transform(x_train)\n",
    "x_test = scaler.transform(x_test)"
   ]
  },
  {
   "cell_type": "markdown",
   "metadata": {},
   "source": [
    "## 4. Build and Assess the machine learning models (35 pts.)"
   ]
  },
  {
   "cell_type": "markdown",
   "metadata": {},
   "source": [
    "**You have to evaluate the machine learning models using at least two performance metrics (for example: precision and recall)**. "
   ]
  },
  {
   "cell_type": "markdown",
   "metadata": {},
   "source": [
    "Here I use 3 Classifier Model to test the accuracy :\n",
    "- **Decision Tree Classifier**\n",
    "- **Random Forest Classifier**\n",
    "- **K Nearest Neighbour**\n",
    "\n",
    "First we import the library that will be used to do the Classifier Model"
   ]
  },
  {
   "cell_type": "code",
   "execution_count": 25,
   "metadata": {},
   "outputs": [],
   "source": [
    "from sklearn.tree import DecisionTreeClassifier\n",
    "from sklearn.ensemble import RandomForestClassifier\n",
    "from sklearn.neighbors import KNeighborsClassifier"
   ]
  },
  {
   "cell_type": "markdown",
   "metadata": {},
   "source": [
    "### First Model : Decision Tree Classifier"
   ]
  },
  {
   "cell_type": "markdown",
   "metadata": {},
   "source": [
    "First, we defined the `DecisionTreeClassifier` method into `dtc` variable\n",
    "\n",
    "Then, we fit the model using `x_train` and `y_train` variable\n",
    "\n",
    "Last, we can see the accuracy for the Decision Tree Classifier model by testing the model using `x_test` and `y_test` variable"
   ]
  },
  {
   "cell_type": "code",
   "execution_count": 26,
   "metadata": {},
   "outputs": [
    {
     "name": "stdout",
     "output_type": "stream",
     "text": [
      "Decision Tree Classifier Accuracy is: 100.0 %\n"
     ]
    }
   ],
   "source": [
    "dtc = DecisionTreeClassifier()\n",
    "dtc.fit(x_train, y_train)\n",
    "yPredDTC = dtc.predict(x_test)\n",
    "print(\"Decision Tree Classifier Accuracy is:\", dtc.score(x_test, y_test) * 100, \"%\")"
   ]
  },
  {
   "cell_type": "markdown",
   "metadata": {},
   "source": [
    "### Second Model : Random Forest Classifier"
   ]
  },
  {
   "cell_type": "markdown",
   "metadata": {},
   "source": [
    "First, we defined the `RandomForestClassifier` method into `rfc` variable\n",
    "\n",
    "Then, we fit the model using `x_train` and `y_train` variable\n",
    "\n",
    "Last, we can see the accuracy for the Random Forest Classifier model by testing the model using `x_test` and `y_test` variable"
   ]
  },
  {
   "cell_type": "code",
   "execution_count": 27,
   "metadata": {},
   "outputs": [
    {
     "name": "stdout",
     "output_type": "stream",
     "text": [
      "Random Forest Classifier Accuracy is: 100.0 %\n"
     ]
    }
   ],
   "source": [
    "rfc = RandomForestClassifier()\n",
    "rfc.fit(x_train, y_train)\n",
    "yPredRFC = rfc.predict(x_test)\n",
    "print(\"Random Forest Classifier Accuracy is:\", rfc.score(x_test, y_test) * 100, \"%\")"
   ]
  },
  {
   "cell_type": "markdown",
   "metadata": {},
   "source": [
    "### Third Model : K Nearest Neighbour"
   ]
  },
  {
   "cell_type": "markdown",
   "metadata": {},
   "source": [
    "First, we defined the `KNeighborsClassifier` method into `knn` variable\n",
    "\n",
    "Then, we fit the model using `x_train` and `y_train` variable\n",
    "\n",
    "Last, we can see the accuracy for the K Nearest Neighbour model by testing the model using `x_test` and `y_test` variable"
   ]
  },
  {
   "cell_type": "code",
   "execution_count": 28,
   "metadata": {},
   "outputs": [
    {
     "name": "stdout",
     "output_type": "stream",
     "text": [
      "K Nearest Neighbour Accuracy is: 95.28854824165916 %\n"
     ]
    }
   ],
   "source": [
    "knn = KNeighborsClassifier()\n",
    "knn.fit(x_train, y_train)\n",
    "yPredKNN = knn.predict(x_test)\n",
    "print(\"K Nearest Neighbour Accuracy is:\", knn.score(x_test, y_test) * 100, \"%\")"
   ]
  },
  {
   "cell_type": "markdown",
   "metadata": {},
   "source": [
    "## 5. Choose your Final Model (3 pts.)"
   ]
  },
  {
   "cell_type": "markdown",
   "metadata": {},
   "source": [
    "**You finally have your final model. Write comments to justify your final model**"
   ]
  },
  {
   "cell_type": "markdown",
   "metadata": {},
   "source": [
    "Import the library needed to compare each Model"
   ]
  },
  {
   "cell_type": "code",
   "execution_count": 29,
   "metadata": {},
   "outputs": [],
   "source": [
    "from sklearn.metrics import accuracy_score, confusion_matrix, classification_report"
   ]
  },
  {
   "cell_type": "markdown",
   "metadata": {},
   "source": [
    "Now, we compare each model by using accuracy score, confusion matrix and the classification report"
   ]
  },
  {
   "cell_type": "markdown",
   "metadata": {},
   "source": [
    "### Decision Tree Classifier"
   ]
  },
  {
   "cell_type": "code",
   "execution_count": 30,
   "metadata": {},
   "outputs": [
    {
     "name": "stdout",
     "output_type": "stream",
     "text": [
      "1.0\n"
     ]
    }
   ],
   "source": [
    "acs = accuracy_score(yPredDTC, y_test)\n",
    "print(acs)"
   ]
  },
  {
   "cell_type": "code",
   "execution_count": 31,
   "metadata": {},
   "outputs": [
    {
     "name": "stdout",
     "output_type": "stream",
     "text": [
      "[[2555    0    0]\n",
      " [   0 4516    0]\n",
      " [   0    0 1801]]\n"
     ]
    }
   ],
   "source": [
    "cfm = confusion_matrix(yPredDTC, y_test)\n",
    "print(cfm)"
   ]
  },
  {
   "cell_type": "code",
   "execution_count": 32,
   "metadata": {},
   "outputs": [
    {
     "name": "stdout",
     "output_type": "stream",
     "text": [
      "              precision    recall  f1-score   support\n",
      "\n",
      "           0       1.00      1.00      1.00      2555\n",
      "           1       1.00      1.00      1.00      4516\n",
      "           2       1.00      1.00      1.00      1801\n",
      "\n",
      "    accuracy                           1.00      8872\n",
      "   macro avg       1.00      1.00      1.00      8872\n",
      "weighted avg       1.00      1.00      1.00      8872\n",
      "\n"
     ]
    }
   ],
   "source": [
    "cr = classification_report(yPredDTC, y_test)\n",
    "print(cr)"
   ]
  },
  {
   "cell_type": "markdown",
   "metadata": {},
   "source": [
    "### Random Forest Classifier"
   ]
  },
  {
   "cell_type": "code",
   "execution_count": 33,
   "metadata": {},
   "outputs": [
    {
     "name": "stdout",
     "output_type": "stream",
     "text": [
      "1.0\n"
     ]
    }
   ],
   "source": [
    "acs = accuracy_score(yPredRFC, y_test)\n",
    "print(acs)"
   ]
  },
  {
   "cell_type": "code",
   "execution_count": 34,
   "metadata": {},
   "outputs": [
    {
     "name": "stdout",
     "output_type": "stream",
     "text": [
      "[[2555    0    0]\n",
      " [   0 4516    0]\n",
      " [   0    0 1801]]\n"
     ]
    }
   ],
   "source": [
    "cfm = confusion_matrix(yPredRFC, y_test)\n",
    "print(cfm)"
   ]
  },
  {
   "cell_type": "code",
   "execution_count": 35,
   "metadata": {},
   "outputs": [
    {
     "name": "stdout",
     "output_type": "stream",
     "text": [
      "              precision    recall  f1-score   support\n",
      "\n",
      "           0       1.00      1.00      1.00      2555\n",
      "           1       1.00      1.00      1.00      4516\n",
      "           2       1.00      1.00      1.00      1801\n",
      "\n",
      "    accuracy                           1.00      8872\n",
      "   macro avg       1.00      1.00      1.00      8872\n",
      "weighted avg       1.00      1.00      1.00      8872\n",
      "\n"
     ]
    }
   ],
   "source": [
    "cr = classification_report(yPredRFC, y_test)\n",
    "print(cr)"
   ]
  },
  {
   "cell_type": "markdown",
   "metadata": {},
   "source": [
    "### K Nearest Neighbour"
   ]
  },
  {
   "cell_type": "code",
   "execution_count": 36,
   "metadata": {},
   "outputs": [
    {
     "name": "stdout",
     "output_type": "stream",
     "text": [
      "0.9528854824165915\n"
     ]
    }
   ],
   "source": [
    "acs = accuracy_score(yPredKNN, y_test)\n",
    "print(acs)"
   ]
  },
  {
   "cell_type": "code",
   "execution_count": 37,
   "metadata": {},
   "outputs": [
    {
     "name": "stdout",
     "output_type": "stream",
     "text": [
      "[[2446  109    0]\n",
      " [ 109 4341  134]\n",
      " [   0   66 1667]]\n"
     ]
    }
   ],
   "source": [
    "cfm = confusion_matrix(yPredKNN, y_test)\n",
    "print(cfm)"
   ]
  },
  {
   "cell_type": "code",
   "execution_count": 38,
   "metadata": {},
   "outputs": [
    {
     "name": "stdout",
     "output_type": "stream",
     "text": [
      "              precision    recall  f1-score   support\n",
      "\n",
      "           0       0.96      0.96      0.96      2555\n",
      "           1       0.96      0.95      0.95      4584\n",
      "           2       0.93      0.96      0.94      1733\n",
      "\n",
      "    accuracy                           0.95      8872\n",
      "   macro avg       0.95      0.96      0.95      8872\n",
      "weighted avg       0.95      0.95      0.95      8872\n",
      "\n"
     ]
    }
   ],
   "source": [
    "cr = classification_report(yPredKNN, y_test)\n",
    "print(cr)"
   ]
  },
  {
   "cell_type": "markdown",
   "metadata": {},
   "source": [
    "As we can see, by comparing the accuracy score, confusion matrix, and the classification report, we can see that **Random Forest Classifier** excels the other classifier from the accuracy score, precision rate, recall rate, and f1-score.\n",
    "\n",
    "So, I choose **Random Forest Classifier** as my final model to do the dataset"
   ]
  }
 ],
 "metadata": {
  "kernelspec": {
   "display_name": "Python 3",
   "language": "python",
   "name": "python3"
  },
  "language_info": {
   "codemirror_mode": {
    "name": "ipython",
    "version": 3
   },
   "file_extension": ".py",
   "mimetype": "text/x-python",
   "name": "python",
   "nbconvert_exporter": "python",
   "pygments_lexer": "ipython3",
   "version": "3.8.3"
  }
 },
 "nbformat": 4,
 "nbformat_minor": 4
}
